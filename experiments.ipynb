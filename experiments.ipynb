{
 "cells": [
  {
   "cell_type": "markdown",
   "metadata": {},
   "source": [
    "# Experiments"
   ]
  },
  {
   "cell_type": "code",
   "execution_count": 164,
   "metadata": {},
   "outputs": [],
   "source": [
    "import numpy as np\n",
    "from matplotlib import pyplot as plt\n",
    "from copy import deepcopy"
   ]
  },
  {
   "cell_type": "code",
   "execution_count": 151,
   "metadata": {},
   "outputs": [],
   "source": [
    "from main import run_experiment, generate_data"
   ]
  },
  {
   "cell_type": "markdown",
   "metadata": {},
   "source": [
    "## Experiment 1"
   ]
  },
  {
   "cell_type": "markdown",
   "metadata": {},
   "source": [
    "### Simulation"
   ]
  },
  {
   "cell_type": "code",
   "execution_count": 152,
   "metadata": {},
   "outputs": [
    {
     "name": "stdout",
     "output_type": "stream",
     "text": [
      "Size 0 took 0 iterations\n",
      "Size 20 took 137 iterations\n",
      "Size 40 took 277 iterations\n",
      "Size 60 took 417 iterations\n",
      "Size 80 took 557 iterations\n",
      "Size 100 took 697 iterations\n",
      "Size 120 took 837 iterations\n",
      "Size 140 took 977 iterations\n",
      "Size 160 took 1117 iterations\n",
      "Size 180 took 1257 iterations\n",
      "Size 200 took 1397 iterations\n",
      "Size 220 took 1537 iterations\n",
      "Size 240 took 1677 iterations\n",
      "Size 260 took 1817 iterations\n",
      "Size 280 took 1957 iterations\n",
      "Size 300 took 2097 iterations\n",
      "Size 320 took 2237 iterations\n",
      "Size 340 took 2377 iterations\n",
      "Size 360 took 2517 iterations\n",
      "Size 380 took 2657 iterations\n",
      "Size 400 took 2797 iterations\n",
      "Size 420 took 2937 iterations\n",
      "Size 440 took 3077 iterations\n",
      "Size 460 took 3217 iterations\n",
      "Size 480 took 3357 iterations\n",
      "Size 500 took 3497 iterations\n",
      "Size 520 took 3637 iterations\n",
      "Size 540 took 3777 iterations\n",
      "Size 560 took 3917 iterations\n",
      "Size 580 took 4057 iterations\n",
      "Size 600 took 4197 iterations\n",
      "Size 620 took 4337 iterations\n",
      "Size 640 took 4477 iterations\n",
      "Size 660 took 4617 iterations\n",
      "Size 680 took 4757 iterations\n",
      "Size 700 took 4897 iterations\n",
      "Size 720 took 5037 iterations\n",
      "Size 740 took 5177 iterations\n",
      "Size 760 took 5317 iterations\n",
      "Size 780 took 5457 iterations\n",
      "Size 800 took 5597 iterations\n",
      "Size 820 took 5737 iterations\n",
      "Size 840 took 5877 iterations\n",
      "Size 860 took 6017 iterations\n",
      "Size 880 took 6157 iterations\n",
      "Size 900 took 6297 iterations\n",
      "Size 920 took 6437 iterations\n",
      "Size 940 took 6577 iterations\n",
      "Size 960 took 6717 iterations\n",
      "Size 980 took 6857 iterations\n",
      "Size 1000 took 6997 iterations\n"
     ]
    }
   ],
   "source": [
    "p_1 = 0\n",
    "p_2 = 0\n",
    "sizes = range(0, 1000+1, 20)\n",
    "iterations = list()\n",
    "for size in sizes:\n",
    "    data = generate_data(size)\n",
    "    result = run_experiment(data, p_1, p_2)\n",
    "    iterations.append(result[\"iterations\"])\n",
    "    print(f'Size {size} took {result[\"iterations\"]} iterations')"
   ]
  },
  {
   "cell_type": "markdown",
   "metadata": {},
   "source": [
    "### Plotting"
   ]
  },
  {
   "cell_type": "code",
   "execution_count": 153,
   "metadata": {},
   "outputs": [
    {
     "data": {
      "image/png": "[encoded data removed]",
      "text/plain": [
       "<Figure size 432x288 with 1 Axes>"
      ]
     },
     "metadata": {
      "needs_background": "light"
     },
     "output_type": "display_data"
    }
   ],
   "source": [
    "plt.plot(sizes, iterations)\n",
    "plt.xlabel('Data size')\n",
    "plt.ylabel('No. time ticks (loop iterations)')\n",
    "plt.grid()\n",
    "plt.savefig('output/Experiment-1.pdf')"
   ]
  },
  {
   "cell_type": "markdown",
   "metadata": {},
   "source": [
    "## Experiment 2"
   ]
  },
  {
   "cell_type": "code",
   "execution_count": 154,
   "metadata": {},
   "outputs": [],
   "source": [
    "p_2 = 0\n",
    "probabilities = range(0, 100, 1)"
   ]
  },
  {
   "cell_type": "markdown",
   "metadata": {},
   "source": [
    "### Prediction"
   ]
  },
  {
   "cell_type": "code",
   "execution_count": 155,
   "metadata": {},
   "outputs": [],
   "source": [
    "iterations_prediction = [200/(1 - i/100) * 10 - 400 for i in probabilities]\n",
    "iterations_prediction_2 = deepcopy(iterations_prediction)"
   ]
  },
  {
   "cell_type": "markdown",
   "metadata": {},
   "source": [
    "### Simulation"
   ]
  },
  {
   "cell_type": "code",
   "execution_count": 156,
   "metadata": {},
   "outputs": [
    {
     "name": "stdout",
     "output_type": "stream",
     "text": [
      "p_1 = 0% took 1397 iterations\n",
      "p_1 = 1% took 1417 iterations\n",
      "p_1 = 2% took 1457 iterations\n",
      "p_1 = 3% took 1487 iterations\n",
      "p_1 = 4% took 1487 iterations\n",
      "p_1 = 5% took 1497 iterations\n",
      "p_1 = 6% took 1527 iterations\n",
      "p_1 = 7% took 1557 iterations\n",
      "p_1 = 8% took 1547 iterations\n",
      "p_1 = 9% took 1577 iterations\n",
      "p_1 = 10% took 1637 iterations\n",
      "p_1 = 11% took 1577 iterations\n",
      "p_1 = 12% took 1717 iterations\n",
      "p_1 = 13% took 1767 iterations\n",
      "p_1 = 14% took 1767 iterations\n",
      "p_1 = 15% took 1677 iterations\n",
      "p_1 = 16% took 1617 iterations\n",
      "p_1 = 17% took 1817 iterations\n",
      "p_1 = 18% took 1947 iterations\n",
      "p_1 = 19% took 1897 iterations\n",
      "p_1 = 20% took 1907 iterations\n",
      "p_1 = 21% took 2107 iterations\n",
      "p_1 = 22% took 1997 iterations\n",
      "p_1 = 23% took 1817 iterations\n",
      "p_1 = 24% took 2047 iterations\n",
      "p_1 = 25% took 2167 iterations\n",
      "p_1 = 26% took 1987 iterations\n",
      "p_1 = 27% took 2097 iterations\n",
      "p_1 = 28% took 2287 iterations\n",
      "p_1 = 29% took 2077 iterations\n",
      "p_1 = 30% took 2137 iterations\n",
      "p_1 = 31% took 2287 iterations\n",
      "p_1 = 32% took 2317 iterations\n",
      "p_1 = 33% took 2317 iterations\n",
      "p_1 = 34% took 2317 iterations\n",
      "p_1 = 35% took 2397 iterations\n",
      "p_1 = 36% took 2657 iterations\n",
      "p_1 = 37% took 2437 iterations\n",
      "p_1 = 38% took 2737 iterations\n",
      "p_1 = 39% took 2907 iterations\n",
      "p_1 = 40% took 2697 iterations\n",
      "p_1 = 41% took 2677 iterations\n",
      "p_1 = 42% took 2687 iterations\n",
      "p_1 = 43% took 2957 iterations\n",
      "p_1 = 44% took 3177 iterations\n",
      "p_1 = 45% took 3347 iterations\n",
      "p_1 = 46% took 3217 iterations\n",
      "p_1 = 47% took 3257 iterations\n",
      "p_1 = 48% took 3277 iterations\n",
      "p_1 = 49% took 3927 iterations\n",
      "p_1 = 50% took 3237 iterations\n",
      "p_1 = 51% took 3447 iterations\n",
      "p_1 = 52% took 3627 iterations\n",
      "p_1 = 53% took 3337 iterations\n",
      "p_1 = 54% took 4037 iterations\n",
      "p_1 = 55% took 3827 iterations\n",
      "p_1 = 56% took 3717 iterations\n",
      "p_1 = 57% took 3797 iterations\n",
      "p_1 = 58% took 3977 iterations\n",
      "p_1 = 59% took 3957 iterations\n",
      "p_1 = 60% took 4487 iterations\n",
      "p_1 = 61% took 4447 iterations\n",
      "p_1 = 62% took 4547 iterations\n",
      "p_1 = 63% took 4557 iterations\n",
      "p_1 = 64% took 5207 iterations\n",
      "p_1 = 65% took 5647 iterations\n",
      "p_1 = 66% took 5687 iterations\n",
      "p_1 = 67% took 5947 iterations\n",
      "p_1 = 68% took 6087 iterations\n",
      "p_1 = 69% took 5687 iterations\n",
      "p_1 = 70% took 5957 iterations\n",
      "p_1 = 71% took 6637 iterations\n",
      "p_1 = 72% took 6217 iterations\n",
      "p_1 = 73% took 6837 iterations\n",
      "p_1 = 74% took 6817 iterations\n",
      "p_1 = 75% took 7447 iterations\n",
      "p_1 = 76% took 8087 iterations\n",
      "p_1 = 77% took 7177 iterations\n",
      "p_1 = 78% took 8357 iterations\n",
      "p_1 = 79% took 9187 iterations\n",
      "p_1 = 80% took 10027 iterations\n",
      "p_1 = 81% took 10307 iterations\n",
      "p_1 = 82% took 10237 iterations\n",
      "p_1 = 83% took 11447 iterations\n",
      "p_1 = 84% took 9737 iterations\n",
      "p_1 = 85% took 13877 iterations\n",
      "p_1 = 86% took 13327 iterations\n",
      "p_1 = 87% took 14417 iterations\n",
      "p_1 = 88% took 17077 iterations\n",
      "p_1 = 89% took 16397 iterations\n",
      "p_1 = 90% took 18497 iterations\n",
      "p_1 = 91% took 23607 iterations\n",
      "p_1 = 92% took 23437 iterations\n",
      "p_1 = 93% took 27527 iterations\n",
      "p_1 = 94% took 34977 iterations\n",
      "p_1 = 95% took 37037 iterations\n",
      "p_1 = 96% took 46517 iterations\n",
      "p_1 = 97% took 69567 iterations\n",
      "p_1 = 98% took 103957 iterations\n",
      "p_1 = 99% took 207847 iterations\n"
     ]
    }
   ],
   "source": [
    "iterations = list()\n",
    "\n",
    "for probability in probabilities:\n",
    "    # Map range [0, 100) to [0, 1)\n",
    "    p_1 = probability / 100\n",
    "    data = generate_data(length=200)\n",
    "    result = run_experiment(data, p_1, p_2)\n",
    "    iterations.append(result[\"iterations\"])\n",
    "    print(f'p_1 = {probability}% took {result[\"iterations\"]} iterations')\n",
    "\n",
    "iterations_experiment2 = deepcopy(iterations)\n"
   ]
  },
  {
   "cell_type": "markdown",
   "metadata": {},
   "source": [
    "### Plotting"
   ]
  },
  {
   "cell_type": "markdown",
   "metadata": {},
   "source": [
    "Linear scale"
   ]
  },
  {
   "cell_type": "code",
   "execution_count": 157,
   "metadata": {},
   "outputs": [
    {
     "data": {
      "image/png": "[encoded data removed]",
      "text/plain": [
       "<Figure size 432x288 with 1 Axes>"
      ]
     },
     "metadata": {
      "needs_background": "light"
     },
     "output_type": "display_data"
    }
   ],
   "source": [
    "plt.plot(probabilities, iterations, label='Simulation', zorder=1)\n",
    "plt.plot(probabilities, iterations_prediction, label='Prediction (fitted)', zorder=0)\n",
    "plt.legend()\n",
    "# plt.title('Experiment 2')\n",
    "plt.xlabel('$p_1$ [%]')\n",
    "# plt.xlim([0, 10])\n",
    "# plt.ylim([0, 5000])\n",
    "plt.ylabel('No. time ticks (loop iterations)')\n",
    "plt.grid()\n",
    "plt.savefig('output/Experiment-2_linear.pdf')"
   ]
  },
  {
   "cell_type": "markdown",
   "metadata": {},
   "source": [
    "Logarithmic scale"
   ]
  },
  {
   "cell_type": "code",
   "execution_count": 158,
   "metadata": {},
   "outputs": [
    {
     "data": {
      "image/png": "[encoded data removed]",
      "text/plain": [
       "<Figure size 432x288 with 1 Axes>"
      ]
     },
     "metadata": {
      "needs_background": "light"
     },
     "output_type": "display_data"
    }
   ],
   "source": [
    "plt.semilogy(probabilities, iterations, label='Simulation', zorder=1)\n",
    "plt.semilogy(probabilities, iterations_prediction, label='Prediction (fitted)', zorder=0)\n",
    "plt.legend()\n",
    "plt.title('Experiment 2')\n",
    "plt.xlabel('$p_1$ [%]')\n",
    "# plt.xlim([0, 10])\n",
    "# plt.ylim([0, 5000])\n",
    "plt.ylabel('No. time ticks (loop iterations)')\n",
    "plt.grid()\n",
    "plt.savefig('output/Experiment-2_log.pdf')"
   ]
  },
  {
   "cell_type": "markdown",
   "metadata": {},
   "source": [
    "## Experiment 3"
   ]
  },
  {
   "cell_type": "code",
   "execution_count": 159,
   "metadata": {},
   "outputs": [],
   "source": [
    "probabilities = range(0, 100, 1)"
   ]
  },
  {
   "cell_type": "markdown",
   "metadata": {},
   "source": [
    "### Prediction"
   ]
  },
  {
   "cell_type": "code",
   "execution_count": 160,
   "metadata": {},
   "outputs": [],
   "source": [
    "# p = [i/100 for i in probabilities]\n",
    "# p_fail = [2*i - i**2 for i in p]\n",
    "# iterations_prediction = [200/(1 - i) * 10  - 400 for i in p_fail]\n",
    "\n",
    "p = np.linspace(0, 1)\n",
    "p_fail = 2*p - p**2\n",
    "p_success = 1 - p_fail\n",
    "iterations_prediction = (200/p_success) * 10 - 400"
   ]
  },
  {
   "cell_type": "markdown",
   "metadata": {},
   "source": [
    "### Simulation"
   ]
  },
  {
   "cell_type": "code",
   "execution_count": 161,
   "metadata": {},
   "outputs": [
    {
     "name": "stdout",
     "output_type": "stream",
     "text": [
      "p_1 = p_2 = p = 0% took 697 iterations\n",
      "p_1 = p_2 = p = 1% took 747 iterations\n",
      "p_1 = p_2 = p = 2% took 737 iterations\n",
      "p_1 = p_2 = p = 3% took 787 iterations\n",
      "p_1 = p_2 = p = 4% took 717 iterations\n",
      "p_1 = p_2 = p = 5% took 797 iterations\n",
      "p_1 = p_2 = p = 6% took 817 iterations\n",
      "p_1 = p_2 = p = 7% took 837 iterations\n",
      "p_1 = p_2 = p = 8% took 817 iterations\n",
      "p_1 = p_2 = p = 9% took 887 iterations\n",
      "p_1 = p_2 = p = 10% took 877 iterations\n",
      "p_1 = p_2 = p = 11% took 957 iterations\n",
      "p_1 = p_2 = p = 12% took 1017 iterations\n",
      "p_1 = p_2 = p = 13% took 987 iterations\n",
      "p_1 = p_2 = p = 14% took 1017 iterations\n",
      "p_1 = p_2 = p = 15% took 1207 iterations\n",
      "p_1 = p_2 = p = 16% took 1087 iterations\n",
      "p_1 = p_2 = p = 17% took 1137 iterations\n",
      "p_1 = p_2 = p = 18% took 1007 iterations\n",
      "p_1 = p_2 = p = 19% took 1217 iterations\n",
      "p_1 = p_2 = p = 20% took 1297 iterations\n",
      "p_1 = p_2 = p = 21% took 1167 iterations\n",
      "p_1 = p_2 = p = 22% took 1157 iterations\n",
      "p_1 = p_2 = p = 23% took 1347 iterations\n",
      "p_1 = p_2 = p = 24% took 1337 iterations\n",
      "p_1 = p_2 = p = 25% took 1427 iterations\n",
      "p_1 = p_2 = p = 26% took 1417 iterations\n",
      "p_1 = p_2 = p = 27% took 1307 iterations\n",
      "p_1 = p_2 = p = 28% took 1417 iterations\n",
      "p_1 = p_2 = p = 29% took 1477 iterations\n",
      "p_1 = p_2 = p = 30% took 1617 iterations\n",
      "p_1 = p_2 = p = 31% took 1847 iterations\n",
      "p_1 = p_2 = p = 32% took 1637 iterations\n",
      "p_1 = p_2 = p = 33% took 1607 iterations\n",
      "p_1 = p_2 = p = 34% took 1777 iterations\n",
      "p_1 = p_2 = p = 35% took 1637 iterations\n",
      "p_1 = p_2 = p = 36% took 1937 iterations\n",
      "p_1 = p_2 = p = 37% took 1877 iterations\n",
      "p_1 = p_2 = p = 38% took 1587 iterations\n",
      "p_1 = p_2 = p = 39% took 1807 iterations\n",
      "p_1 = p_2 = p = 40% took 1897 iterations\n",
      "p_1 = p_2 = p = 41% took 2077 iterations\n",
      "p_1 = p_2 = p = 42% took 2567 iterations\n",
      "p_1 = p_2 = p = 43% took 2347 iterations\n",
      "p_1 = p_2 = p = 44% took 2497 iterations\n",
      "p_1 = p_2 = p = 45% took 2407 iterations\n",
      "p_1 = p_2 = p = 46% took 2377 iterations\n",
      "p_1 = p_2 = p = 47% took 2277 iterations\n",
      "p_1 = p_2 = p = 48% took 2517 iterations\n",
      "p_1 = p_2 = p = 49% took 2307 iterations\n",
      "p_1 = p_2 = p = 50% took 3087 iterations\n",
      "p_1 = p_2 = p = 51% took 2927 iterations\n",
      "p_1 = p_2 = p = 52% took 3147 iterations\n",
      "p_1 = p_2 = p = 53% took 3217 iterations\n",
      "p_1 = p_2 = p = 54% took 2997 iterations\n",
      "p_1 = p_2 = p = 55% took 3437 iterations\n",
      "p_1 = p_2 = p = 56% took 2787 iterations\n",
      "p_1 = p_2 = p = 57% took 3297 iterations\n",
      "p_1 = p_2 = p = 58% took 2977 iterations\n",
      "p_1 = p_2 = p = 59% took 4017 iterations\n",
      "p_1 = p_2 = p = 60% took 3827 iterations\n",
      "p_1 = p_2 = p = 61% took 3747 iterations\n",
      "p_1 = p_2 = p = 62% took 3787 iterations\n",
      "p_1 = p_2 = p = 63% took 3537 iterations\n",
      "p_1 = p_2 = p = 64% took 4067 iterations\n",
      "p_1 = p_2 = p = 65% took 4667 iterations\n",
      "p_1 = p_2 = p = 66% took 4047 iterations\n",
      "p_1 = p_2 = p = 67% took 5187 iterations\n",
      "p_1 = p_2 = p = 68% took 4787 iterations\n",
      "p_1 = p_2 = p = 69% took 4947 iterations\n",
      "p_1 = p_2 = p = 70% took 4947 iterations\n",
      "p_1 = p_2 = p = 71% took 5037 iterations\n",
      "p_1 = p_2 = p = 72% took 5427 iterations\n",
      "p_1 = p_2 = p = 73% took 6267 iterations\n",
      "p_1 = p_2 = p = 74% took 6937 iterations\n",
      "p_1 = p_2 = p = 75% took 6417 iterations\n",
      "p_1 = p_2 = p = 76% took 6457 iterations\n",
      "p_1 = p_2 = p = 77% took 6467 iterations\n",
      "p_1 = p_2 = p = 78% took 7447 iterations\n",
      "p_1 = p_2 = p = 79% took 8267 iterations\n",
      "p_1 = p_2 = p = 80% took 8447 iterations\n",
      "p_1 = p_2 = p = 81% took 9927 iterations\n",
      "p_1 = p_2 = p = 82% took 11327 iterations\n",
      "p_1 = p_2 = p = 83% took 10087 iterations\n",
      "p_1 = p_2 = p = 84% took 10877 iterations\n",
      "p_1 = p_2 = p = 85% took 12217 iterations\n",
      "p_1 = p_2 = p = 86% took 12687 iterations\n",
      "p_1 = p_2 = p = 87% took 14257 iterations\n",
      "p_1 = p_2 = p = 88% took 15037 iterations\n",
      "p_1 = p_2 = p = 89% took 14647 iterations\n",
      "p_1 = p_2 = p = 90% took 18077 iterations\n",
      "p_1 = p_2 = p = 91% took 22727 iterations\n",
      "p_1 = p_2 = p = 92% took 22517 iterations\n",
      "p_1 = p_2 = p = 93% took 24617 iterations\n",
      "p_1 = p_2 = p = 94% took 32727 iterations\n",
      "p_1 = p_2 = p = 95% took 42187 iterations\n",
      "p_1 = p_2 = p = 96% took 53487 iterations\n",
      "p_1 = p_2 = p = 97% took 66427 iterations\n",
      "p_1 = p_2 = p = 98% took 98327 iterations\n",
      "p_1 = p_2 = p = 99% took 184817 iterations\n"
     ]
    }
   ],
   "source": [
    "\n",
    "iterations = list()\n",
    "\n",
    "for probability in probabilities:\n",
    "    p_1 = p_2 = p = probability / 100\n",
    "    data = generate_data(length=100)\n",
    "    # print('p1 = ', p_1, 'p2 = ', p_2)\n",
    "    result = run_experiment(data, p_1, p_2)\n",
    "    iterations.append(result[\"iterations\"])\n",
    "    print(f'p_1 = p_2 = p = {probability}% took {result[\"iterations\"]} iterations')\n",
    "\n",
    "iterations_experiment3 = deepcopy(iterations)\n"
   ]
  },
  {
   "cell_type": "markdown",
   "metadata": {},
   "source": [
    "### Plotting"
   ]
  },
  {
   "cell_type": "code",
   "execution_count": 163,
   "metadata": {},
   "outputs": [
    {
     "data": {
      "image/png": "[encoded data removed]",
      "text/plain": [
       "<Figure size 432x288 with 1 Axes>"
      ]
     },
     "metadata": {
      "needs_background": "light"
     },
     "output_type": "display_data"
    }
   ],
   "source": [
    "plt.semilogy(probabilities, iterations, label='Simulation')\n",
    "plt.semilogy(p, iterations_prediction, label='Prediction (fitted)')\n",
    "plt.semilogy(probabilities, iterations_prediction_2, label='Prediction 2 (fitted)')\n",
    "plt.title('Experiment 3')\n",
    "plt.xlabel('$p_{fail}$ [%]')\n",
    "plt.ylabel('No. time ticks (loop iterations)')\n",
    "plt.legend()\n",
    "# plt.xlim([0, 10])\n",
    "# plt.ylim([10**2.4, 10**3.2])\n",
    "plt.grid()\n",
    "plt.savefig('output/Experiment-3_log.pdf')"
   ]
  },
  {
   "cell_type": "markdown",
   "metadata": {},
   "source": [
    "## Unused"
   ]
  },
  {
   "cell_type": "markdown",
   "metadata": {},
   "source": [
    "In case I later need it.\n",
    "Can be ignored."
   ]
  },
  {
   "cell_type": "code",
   "execution_count": null,
   "metadata": {},
   "outputs": [],
   "source": [
    "p_1 = 0\n",
    "probabilities = range(0, 100, 1)\n",
    "iterations = list()\n",
    "\n",
    "for probability in probabilities:\n",
    "    p_2 = probability / 100\n",
    "    data = generate_data(length=200)\n",
    "    result = run_experiment(data, p_1, p_2)\n",
    "    iterations.append(result[\"iterations\"])\n",
    "    print(f'p_1 = {probability}% took {result[\"iterations\"]} iterations')\n",
    "\n",
    "iterations_experiment4 = deepcopy(iterations)\n"
   ]
  },
  {
   "cell_type": "code",
   "execution_count": null,
   "metadata": {},
   "outputs": [],
   "source": [
    "plt.plot(probabilities, iterations_experiment2)\n",
    "plt.plot(probabilities, iterations_experiment3)\n",
    "plt.plot(probabilities, iterations_experiment4)\n",
    "plt.title('Experiment 2 vs 3')\n",
    "plt.xlabel('$p$ [%]')\n",
    "plt.ylabel('No. time ticks (loop iterations)')\n",
    "# plt.xlim([80, 100])\n",
    "plt.grid()"
   ]
  },
  {
   "cell_type": "code",
   "execution_count": null,
   "metadata": {},
   "outputs": [],
   "source": [
    "for i in range(10):\n",
    "    p_1 = np.linspace(0, 1)\n",
    "    p_2 = i / 10\n",
    "    p_succes = (1 - p_1) * (1 - p_2)\n",
    "    p_fail = 1 - p_succes\n",
    "    plt.plot(p_1, p_fail)\n",
    "\n",
    "plt.grid()"
   ]
  }
 ],
 "metadata": {
  "kernelspec": {
   "display_name": "Python 3 (ipykernel)",
   "language": "python",
   "name": "python3"
  },
  "language_info": {
   "codemirror_mode": {
    "name": "ipython",
    "version": 3
   },
   "file_extension": ".py",
   "mimetype": "text/x-python",
   "name": "python",
   "nbconvert_exporter": "python",
   "pygments_lexer": "ipython3",
   "version": "3.9.7"
  },
  "varInspector": {
   "cols": {
    "lenName": 16,
    "lenType": 16,
    "lenVar": 40
   },
   "kernels_config": {
    "python": {
     "delete_cmd_postfix": "",
     "delete_cmd_prefix": "del ",
     "library": "var_list.py",
     "varRefreshCmd": "print(var_dic_list())"
    },
    "r": {
     "delete_cmd_postfix": ") ",
     "delete_cmd_prefix": "rm(",
     "library": "var_list.r",
     "varRefreshCmd": "cat(var_dic_list()) "
    }
   },
   "types_to_exclude": [
    "module",
    "function",
    "builtin_function_or_method",
    "instance",
    "_Feature"
   ],
   "window_display": false
  }
 },
 "nbformat": 4,
 "nbformat_minor": 2
}
