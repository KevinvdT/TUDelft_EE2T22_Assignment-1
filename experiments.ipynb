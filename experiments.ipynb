{
 "cells": [
  {
   "cell_type": "markdown",
   "metadata": {},
   "source": [
    "# Experiments"
   ]
  },
  {
   "cell_type": "code",
   "execution_count": 1,
   "metadata": {},
   "outputs": [],
   "source": [
    "# import numpy as np\n",
    "from matplotlib import pyplot as plt\n",
    "from copy import deepcopy"
   ]
  },
  {
   "cell_type": "code",
   "execution_count": 2,
   "metadata": {},
   "outputs": [],
   "source": [
    "from main import run_experiment, generate_data"
   ]
  },
  {
   "cell_type": "markdown",
   "metadata": {},
   "source": [
    "## Experiment 1"
   ]
  },
  {
   "cell_type": "markdown",
   "metadata": {},
   "source": [
    "### Simulation"
   ]
  },
  {
   "cell_type": "code",
   "execution_count": 3,
   "metadata": {},
   "outputs": [
    {
     "name": "stdout",
     "output_type": "stream",
     "text": [
      "Size 0 took 0 iterations\n",
      "Size 20 took 137 iterations\n",
      "Size 40 took 277 iterations\n",
      "Size 60 took 417 iterations\n",
      "Size 80 took 557 iterations\n",
      "Size 100 took 697 iterations\n",
      "Size 120 took 837 iterations\n",
      "Size 140 took 977 iterations\n",
      "Size 160 took 1117 iterations\n",
      "Size 180 took 1257 iterations\n",
      "Size 200 took 1397 iterations\n",
      "Size 220 took 1537 iterations\n",
      "Size 240 took 1677 iterations\n",
      "Size 260 took 1817 iterations\n",
      "Size 280 took 1957 iterations\n",
      "Size 300 took 2097 iterations\n",
      "Size 320 took 2237 iterations\n",
      "Size 340 took 2377 iterations\n",
      "Size 360 took 2517 iterations\n",
      "Size 380 took 2657 iterations\n",
      "Size 400 took 2797 iterations\n",
      "Size 420 took 2937 iterations\n",
      "Size 440 took 3077 iterations\n",
      "Size 460 took 3217 iterations\n",
      "Size 480 took 3357 iterations\n",
      "Size 500 took 3497 iterations\n",
      "Size 520 took 3637 iterations\n",
      "Size 540 took 3777 iterations\n",
      "Size 560 took 3917 iterations\n",
      "Size 580 took 4057 iterations\n",
      "Size 600 took 4197 iterations\n",
      "Size 620 took 4337 iterations\n",
      "Size 640 took 4477 iterations\n",
      "Size 660 took 4617 iterations\n",
      "Size 680 took 4757 iterations\n",
      "Size 700 took 4897 iterations\n",
      "Size 720 took 5037 iterations\n",
      "Size 740 took 5177 iterations\n",
      "Size 760 took 5317 iterations\n",
      "Size 780 took 5457 iterations\n",
      "Size 800 took 5597 iterations\n",
      "Size 820 took 5737 iterations\n",
      "Size 840 took 5877 iterations\n",
      "Size 860 took 6017 iterations\n",
      "Size 880 took 6157 iterations\n",
      "Size 900 took 6297 iterations\n",
      "Size 920 took 6437 iterations\n",
      "Size 940 took 6577 iterations\n",
      "Size 960 took 6717 iterations\n",
      "Size 980 took 6857 iterations\n",
      "Size 1000 took 6997 iterations\n"
     ]
    }
   ],
   "source": [
    "p_1 = 0\n",
    "p_2 = 0\n",
    "sizes = range(0, 1000+1, 20)\n",
    "iterations = list()\n",
    "for size in sizes:\n",
    "    data = generate_data(size)\n",
    "    result = run_experiment(data, p_1, p_2)\n",
    "    iterations.append(result[\"iterations\"])\n",
    "    print(f'Size {size} took {result[\"iterations\"]} iterations')"
   ]
  },
  {
   "cell_type": "markdown",
   "metadata": {},
   "source": [
    "### Plotting"
   ]
  },
  {
   "cell_type": "code",
   "execution_count": 4,
   "metadata": {},
   "outputs": [
    {
     "data": {
      "image/png": "[encoded data removed]",
      "text/plain": [
       "<Figure size 432x288 with 1 Axes>"
      ]
     },
     "metadata": {
      "needs_background": "light"
     },
     "output_type": "display_data"
    }
   ],
   "source": [
    "plt.plot(sizes, iterations)\n",
    "plt.xlabel('Data size')\n",
    "plt.ylabel('No. time ticks (loop iterations)')\n",
    "plt.grid()\n",
    "plt.savefig('output/Experiment-1.pdf')"
   ]
  },
  {
   "cell_type": "markdown",
   "metadata": {},
   "source": [
    "## Experiment 2"
   ]
  },
  {
   "cell_type": "code",
   "execution_count": 5,
   "metadata": {},
   "outputs": [],
   "source": [
    "p_2 = 0\n",
    "probabilities = range(0, 100, 1)"
   ]
  },
  {
   "cell_type": "markdown",
   "metadata": {},
   "source": [
    "### Prediction"
   ]
  },
  {
   "cell_type": "code",
   "execution_count": 28,
   "metadata": {},
   "outputs": [],
   "source": [
    "iterations_prediction = [200/(1 - i/100) * 10 - 400 for i in probabilities]"
   ]
  },
  {
   "cell_type": "markdown",
   "metadata": {},
   "source": [
    "### Simulation"
   ]
  },
  {
   "cell_type": "code",
   "execution_count": 7,
   "metadata": {},
   "outputs": [
    {
     "name": "stdout",
     "output_type": "stream",
     "text": [
      "p_1 = 0% took 1397 iterations\n",
      "p_1 = 1% took 1417 iterations\n",
      "p_1 = 2% took 1427 iterations\n",
      "p_1 = 3% took 1477 iterations\n",
      "p_1 = 4% took 1487 iterations\n",
      "p_1 = 5% took 1497 iterations\n",
      "p_1 = 6% took 1517 iterations\n",
      "p_1 = 7% took 1517 iterations\n",
      "p_1 = 8% took 1587 iterations\n",
      "p_1 = 9% took 1597 iterations\n",
      "p_1 = 10% took 1657 iterations\n",
      "p_1 = 11% took 1627 iterations\n",
      "p_1 = 12% took 1717 iterations\n",
      "p_1 = 13% took 1817 iterations\n",
      "p_1 = 14% took 1567 iterations\n",
      "p_1 = 15% took 1677 iterations\n",
      "p_1 = 16% took 1707 iterations\n",
      "p_1 = 17% took 1777 iterations\n",
      "p_1 = 18% took 1757 iterations\n",
      "p_1 = 19% took 1857 iterations\n",
      "p_1 = 20% took 1967 iterations\n",
      "p_1 = 21% took 1867 iterations\n",
      "p_1 = 22% took 2007 iterations\n",
      "p_1 = 23% took 1947 iterations\n",
      "p_1 = 24% took 1937 iterations\n",
      "p_1 = 25% took 2147 iterations\n",
      "p_1 = 26% took 2117 iterations\n",
      "p_1 = 27% took 2087 iterations\n",
      "p_1 = 28% took 2317 iterations\n",
      "p_1 = 29% took 2237 iterations\n",
      "p_1 = 30% took 2197 iterations\n",
      "p_1 = 31% took 2337 iterations\n",
      "p_1 = 32% took 2237 iterations\n",
      "p_1 = 33% took 2377 iterations\n",
      "p_1 = 34% took 2437 iterations\n",
      "p_1 = 35% took 2337 iterations\n",
      "p_1 = 36% took 2327 iterations\n",
      "p_1 = 37% took 2747 iterations\n",
      "p_1 = 38% took 2437 iterations\n",
      "p_1 = 39% took 2807 iterations\n",
      "p_1 = 40% took 2807 iterations\n",
      "p_1 = 41% took 2697 iterations\n",
      "p_1 = 42% took 2777 iterations\n",
      "p_1 = 43% took 3077 iterations\n",
      "p_1 = 44% took 3067 iterations\n",
      "p_1 = 45% took 3037 iterations\n",
      "p_1 = 46% took 3117 iterations\n",
      "p_1 = 47% took 2947 iterations\n",
      "p_1 = 48% took 3347 iterations\n",
      "p_1 = 49% took 3617 iterations\n",
      "p_1 = 50% took 3177 iterations\n",
      "p_1 = 51% took 3177 iterations\n",
      "p_1 = 52% took 4017 iterations\n",
      "p_1 = 53% took 3477 iterations\n",
      "p_1 = 54% took 3337 iterations\n",
      "p_1 = 55% took 3837 iterations\n",
      "p_1 = 56% took 3847 iterations\n",
      "p_1 = 57% took 4317 iterations\n",
      "p_1 = 58% took 4157 iterations\n",
      "p_1 = 59% took 4257 iterations\n",
      "p_1 = 60% took 4177 iterations\n",
      "p_1 = 61% took 4247 iterations\n",
      "p_1 = 62% took 4707 iterations\n",
      "p_1 = 63% took 4857 iterations\n",
      "p_1 = 64% took 4817 iterations\n",
      "p_1 = 65% took 5427 iterations\n",
      "p_1 = 66% took 5237 iterations\n",
      "p_1 = 67% took 6327 iterations\n",
      "p_1 = 68% took 6017 iterations\n",
      "p_1 = 69% took 5567 iterations\n",
      "p_1 = 70% took 6397 iterations\n",
      "p_1 = 71% took 6017 iterations\n",
      "p_1 = 72% took 6237 iterations\n",
      "p_1 = 73% took 7317 iterations\n",
      "p_1 = 74% took 7337 iterations\n",
      "p_1 = 75% took 7407 iterations\n",
      "p_1 = 76% took 7697 iterations\n",
      "p_1 = 77% took 7487 iterations\n",
      "p_1 = 78% took 9367 iterations\n",
      "p_1 = 79% took 8347 iterations\n",
      "p_1 = 80% took 9327 iterations\n",
      "p_1 = 81% took 8837 iterations\n",
      "p_1 = 82% took 10667 iterations\n",
      "p_1 = 83% took 11797 iterations\n",
      "p_1 = 84% took 12767 iterations\n",
      "p_1 = 85% took 12857 iterations\n",
      "p_1 = 86% took 13487 iterations\n",
      "p_1 = 87% took 15067 iterations\n",
      "p_1 = 88% took 16517 iterations\n",
      "p_1 = 89% took 15627 iterations\n",
      "p_1 = 90% took 21057 iterations\n",
      "p_1 = 91% took 20357 iterations\n",
      "p_1 = 92% took 24247 iterations\n",
      "p_1 = 93% took 27657 iterations\n",
      "p_1 = 94% took 33307 iterations\n",
      "p_1 = 95% took 38647 iterations\n",
      "p_1 = 96% took 53237 iterations\n",
      "p_1 = 97% took 63367 iterations\n",
      "p_1 = 98% took 98557 iterations\n",
      "p_1 = 99% took 187827 iterations\n"
     ]
    }
   ],
   "source": [
    "iterations = list()\n",
    "\n",
    "for probability in probabilities:\n",
    "    # Map range [0, 100) to [0, 1)\n",
    "    p_1 = probability / 100\n",
    "    data = generate_data(length=200)\n",
    "    result = run_experiment(data, p_1, p_2)\n",
    "    iterations.append(result[\"iterations\"])\n",
    "    print(f'p_1 = {probability}% took {result[\"iterations\"]} iterations')\n",
    "\n",
    "iterations_experiment2 = deepcopy(iterations)\n"
   ]
  },
  {
   "cell_type": "markdown",
   "metadata": {},
   "source": [
    "### Plotting"
   ]
  },
  {
   "cell_type": "code",
   "execution_count": 41,
   "metadata": {},
   "outputs": [
    {
     "data": {
      "image/png": "[encoded data removed]",
      "text/plain": [
       "<Figure size 432x288 with 1 Axes>"
      ]
     },
     "metadata": {
      "needs_background": "light"
     },
     "output_type": "display_data"
    }
   ],
   "source": [
    "plt.plot(probabilities, iterations, label='Simulation', zorder=1)\n",
    "plt.plot(probabilities, iterations_prediction, label='Prediction (fitted)', zorder=0)\n",
    "plt.legend()\n",
    "plt.title('Experiment 2')\n",
    "plt.xlabel('$p_1$ [%]')\n",
    "# plt.xlim([0, 10])\n",
    "# plt.ylim([0, 5000])\n",
    "plt.ylabel('No. time ticks (loop iterations)')\n",
    "plt.grid()\n",
    "plt.savefig('output/Experiment-1.pdf')"
   ]
  },
  {
   "cell_type": "code",
   "execution_count": 42,
   "metadata": {},
   "outputs": [
    {
     "data": {
      "image/png": "[encoded data removed]",
      "text/plain": [
       "<Figure size 432x288 with 1 Axes>"
      ]
     },
     "metadata": {
      "needs_background": "light"
     },
     "output_type": "display_data"
    }
   ],
   "source": [
    "plt.semilogy(probabilities, iterations, label='Simulation', zorder=1)\n",
    "plt.semilogy(probabilities, iterations_prediction, label='Prediction (fitted)', zorder=0)\n",
    "plt.legend()\n",
    "plt.title('Experiment 2')\n",
    "plt.xlabel('$p_1$ [%]')\n",
    "# plt.xlim([0, 10])\n",
    "# plt.ylim([0, 5000])\n",
    "plt.ylabel('No. time ticks (loop iterations)')\n",
    "plt.grid()\n",
    "plt.savefig('output/Experiment-1.pdf')"
   ]
  },
  {
   "cell_type": "markdown",
   "metadata": {},
   "source": [
    "## Experiment 3"
   ]
  },
  {
   "cell_type": "code",
   "execution_count": null,
   "metadata": {},
   "outputs": [],
   "source": [
    "probabilities = range(0, 100, 1)"
   ]
  },
  {
   "cell_type": "markdown",
   "metadata": {},
   "source": [
    "### Prediction"
   ]
  },
  {
   "cell_type": "code",
   "execution_count": null,
   "metadata": {},
   "outputs": [],
   "source": [
    "p_fail = [p]\n",
    "iterations_prediction = [200/(1 - i/100) * 10 - 400 for i in probabilities]"
   ]
  },
  {
   "cell_type": "markdown",
   "metadata": {},
   "source": [
    "### Simulation"
   ]
  },
  {
   "cell_type": "code",
   "execution_count": 9,
   "metadata": {},
   "outputs": [
    {
     "name": "stdout",
     "output_type": "stream",
     "text": [
      "p_1 = p_2 = p = 0% took 697 iterations\n",
      "p_1 = p_2 = p = 1% took 707 iterations\n",
      "p_1 = p_2 = p = 2% took 727 iterations\n",
      "p_1 = p_2 = p = 3% took 757 iterations\n",
      "p_1 = p_2 = p = 4% took 827 iterations\n",
      "p_1 = p_2 = p = 5% took 767 iterations\n",
      "p_1 = p_2 = p = 6% took 887 iterations\n",
      "p_1 = p_2 = p = 7% took 837 iterations\n",
      "p_1 = p_2 = p = 8% took 887 iterations\n",
      "p_1 = p_2 = p = 9% took 907 iterations\n",
      "p_1 = p_2 = p = 10% took 857 iterations\n",
      "p_1 = p_2 = p = 11% took 937 iterations\n",
      "p_1 = p_2 = p = 12% took 877 iterations\n",
      "p_1 = p_2 = p = 13% took 1037 iterations\n",
      "p_1 = p_2 = p = 14% took 957 iterations\n",
      "p_1 = p_2 = p = 15% took 1047 iterations\n",
      "p_1 = p_2 = p = 16% took 947 iterations\n",
      "p_1 = p_2 = p = 17% took 1097 iterations\n",
      "p_1 = p_2 = p = 18% took 1067 iterations\n",
      "p_1 = p_2 = p = 19% took 1217 iterations\n",
      "p_1 = p_2 = p = 20% took 1137 iterations\n",
      "p_1 = p_2 = p = 21% took 1247 iterations\n",
      "p_1 = p_2 = p = 22% took 1267 iterations\n",
      "p_1 = p_2 = p = 23% took 1277 iterations\n",
      "p_1 = p_2 = p = 24% took 1397 iterations\n",
      "p_1 = p_2 = p = 25% took 1397 iterations\n",
      "p_1 = p_2 = p = 26% took 1547 iterations\n",
      "p_1 = p_2 = p = 27% took 1337 iterations\n",
      "p_1 = p_2 = p = 28% took 1507 iterations\n",
      "p_1 = p_2 = p = 29% took 1477 iterations\n",
      "p_1 = p_2 = p = 30% took 1557 iterations\n",
      "p_1 = p_2 = p = 31% took 1597 iterations\n",
      "p_1 = p_2 = p = 32% took 1687 iterations\n",
      "p_1 = p_2 = p = 33% took 1747 iterations\n",
      "p_1 = p_2 = p = 34% took 1587 iterations\n",
      "p_1 = p_2 = p = 35% took 1807 iterations\n",
      "p_1 = p_2 = p = 36% took 1727 iterations\n",
      "p_1 = p_2 = p = 37% took 1657 iterations\n",
      "p_1 = p_2 = p = 38% took 1697 iterations\n",
      "p_1 = p_2 = p = 39% took 2467 iterations\n",
      "p_1 = p_2 = p = 40% took 2397 iterations\n",
      "p_1 = p_2 = p = 41% took 2067 iterations\n",
      "p_1 = p_2 = p = 42% took 2067 iterations\n",
      "p_1 = p_2 = p = 43% took 2317 iterations\n",
      "p_1 = p_2 = p = 44% took 2147 iterations\n",
      "p_1 = p_2 = p = 45% took 2407 iterations\n",
      "p_1 = p_2 = p = 46% took 2207 iterations\n",
      "p_1 = p_2 = p = 47% took 2757 iterations\n",
      "p_1 = p_2 = p = 48% took 2267 iterations\n",
      "p_1 = p_2 = p = 49% took 2877 iterations\n",
      "p_1 = p_2 = p = 50% took 2757 iterations\n",
      "p_1 = p_2 = p = 51% took 2527 iterations\n",
      "p_1 = p_2 = p = 52% took 2807 iterations\n",
      "p_1 = p_2 = p = 53% took 3027 iterations\n",
      "p_1 = p_2 = p = 54% took 2657 iterations\n",
      "p_1 = p_2 = p = 55% took 2827 iterations\n",
      "p_1 = p_2 = p = 56% took 2637 iterations\n",
      "p_1 = p_2 = p = 57% took 3367 iterations\n",
      "p_1 = p_2 = p = 58% took 3137 iterations\n",
      "p_1 = p_2 = p = 59% took 3807 iterations\n",
      "p_1 = p_2 = p = 60% took 3387 iterations\n",
      "p_1 = p_2 = p = 61% took 3897 iterations\n",
      "p_1 = p_2 = p = 62% took 4017 iterations\n",
      "p_1 = p_2 = p = 63% took 4187 iterations\n",
      "p_1 = p_2 = p = 64% took 4137 iterations\n",
      "p_1 = p_2 = p = 65% took 4307 iterations\n",
      "p_1 = p_2 = p = 66% took 3957 iterations\n",
      "p_1 = p_2 = p = 67% took 4717 iterations\n",
      "p_1 = p_2 = p = 68% took 4497 iterations\n",
      "p_1 = p_2 = p = 69% took 5137 iterations\n",
      "p_1 = p_2 = p = 70% took 5617 iterations\n",
      "p_1 = p_2 = p = 71% took 5657 iterations\n",
      "p_1 = p_2 = p = 72% took 6777 iterations\n",
      "p_1 = p_2 = p = 73% took 6267 iterations\n",
      "p_1 = p_2 = p = 74% took 5597 iterations\n",
      "p_1 = p_2 = p = 75% took 6677 iterations\n",
      "p_1 = p_2 = p = 76% took 6877 iterations\n",
      "p_1 = p_2 = p = 77% took 6277 iterations\n",
      "p_1 = p_2 = p = 78% took 7977 iterations\n",
      "p_1 = p_2 = p = 79% took 8077 iterations\n",
      "p_1 = p_2 = p = 80% took 9957 iterations\n",
      "p_1 = p_2 = p = 81% took 8517 iterations\n",
      "p_1 = p_2 = p = 82% took 9947 iterations\n",
      "p_1 = p_2 = p = 83% took 9907 iterations\n",
      "p_1 = p_2 = p = 84% took 10887 iterations\n",
      "p_1 = p_2 = p = 85% took 11357 iterations\n",
      "p_1 = p_2 = p = 86% took 14597 iterations\n",
      "p_1 = p_2 = p = 87% took 13147 iterations\n",
      "p_1 = p_2 = p = 88% took 14727 iterations\n",
      "p_1 = p_2 = p = 89% took 17867 iterations\n",
      "p_1 = p_2 = p = 90% took 18957 iterations\n",
      "p_1 = p_2 = p = 91% took 19807 iterations\n",
      "p_1 = p_2 = p = 92% took 22697 iterations\n",
      "p_1 = p_2 = p = 93% took 27367 iterations\n",
      "p_1 = p_2 = p = 94% took 29357 iterations\n",
      "p_1 = p_2 = p = 95% took 35377 iterations\n",
      "p_1 = p_2 = p = 96% took 45887 iterations\n",
      "p_1 = p_2 = p = 97% took 67487 iterations\n",
      "p_1 = p_2 = p = 98% took 95857 iterations\n",
      "p_1 = p_2 = p = 99% took 202627 iterations\n"
     ]
    }
   ],
   "source": [
    "\n",
    "iterations = list()\n",
    "\n",
    "for probability in probabilities:\n",
    "    p_1 = p_2 = p = probability / 100\n",
    "    data = generate_data(length=100)\n",
    "    # print('p1 = ', p_1, 'p2 = ', p_2)\n",
    "    result = run_experiment(data, p_1, p_2)\n",
    "    iterations.append(result[\"iterations\"])\n",
    "    print(f'p_1 = p_2 = p = {probability}% took {result[\"iterations\"]} iterations')\n",
    "\n",
    "iterations_experiment3 = deepcopy(iterations)\n"
   ]
  },
  {
   "cell_type": "markdown",
   "metadata": {},
   "source": [
    "### Plotting"
   ]
  },
  {
   "cell_type": "code",
   "execution_count": 10,
   "metadata": {},
   "outputs": [
    {
     "data": {
      "image/png": "[encoded data removed]",
      "text/plain": [
       "<Figure size 432x288 with 1 Axes>"
      ]
     },
     "metadata": {
      "needs_background": "light"
     },
     "output_type": "display_data"
    }
   ],
   "source": [
    "plt.plot(probabilities, iterations)\n",
    "plt.title('Experiment 3')\n",
    "plt.xlabel('$p$ [%]')\n",
    "plt.ylabel('No. time ticks (loop iterations)')\n",
    "# plt.xlim([80, 100])\n",
    "plt.grid()"
   ]
  },
  {
   "cell_type": "markdown",
   "metadata": {},
   "source": [
    "## Unused"
   ]
  },
  {
   "cell_type": "markdown",
   "metadata": {},
   "source": [
    "In case I later need it.\n",
    "Can be ignored."
   ]
  },
  {
   "cell_type": "code",
   "execution_count": 11,
   "metadata": {},
   "outputs": [
    {
     "name": "stdout",
     "output_type": "stream",
     "text": [
      "p_1 = 0% took 1397 iterations\n",
      "p_1 = 1% took 1407 iterations\n",
      "p_1 = 2% took 1477 iterations\n",
      "p_1 = 3% took 1467 iterations\n",
      "p_1 = 4% took 1467 iterations\n",
      "p_1 = 5% took 1537 iterations\n",
      "p_1 = 6% took 1567 iterations\n",
      "p_1 = 7% took 1557 iterations\n",
      "p_1 = 8% took 1547 iterations\n",
      "p_1 = 9% took 1607 iterations\n",
      "p_1 = 10% took 1617 iterations\n",
      "p_1 = 11% took 1587 iterations\n",
      "p_1 = 12% took 1657 iterations\n",
      "p_1 = 13% took 1607 iterations\n",
      "p_1 = 14% took 1587 iterations\n",
      "p_1 = 15% took 1777 iterations\n",
      "p_1 = 16% took 1797 iterations\n",
      "p_1 = 17% took 1897 iterations\n",
      "p_1 = 18% took 1827 iterations\n",
      "p_1 = 19% took 1847 iterations\n",
      "p_1 = 20% took 1867 iterations\n",
      "p_1 = 21% took 2067 iterations\n",
      "p_1 = 22% took 2007 iterations\n",
      "p_1 = 23% took 2047 iterations\n",
      "p_1 = 24% took 2097 iterations\n",
      "p_1 = 25% took 2107 iterations\n",
      "p_1 = 26% took 1957 iterations\n",
      "p_1 = 27% took 2327 iterations\n",
      "p_1 = 28% took 2077 iterations\n",
      "p_1 = 29% took 2157 iterations\n",
      "p_1 = 30% took 2237 iterations\n",
      "p_1 = 31% took 2277 iterations\n",
      "p_1 = 32% took 2387 iterations\n",
      "p_1 = 33% took 2327 iterations\n",
      "p_1 = 34% took 2447 iterations\n",
      "p_1 = 35% took 2547 iterations\n",
      "p_1 = 36% took 2607 iterations\n",
      "p_1 = 37% took 2487 iterations\n",
      "p_1 = 38% took 2787 iterations\n",
      "p_1 = 39% took 2687 iterations\n",
      "p_1 = 40% took 2587 iterations\n",
      "p_1 = 41% took 2627 iterations\n",
      "p_1 = 42% took 2947 iterations\n",
      "p_1 = 43% took 2767 iterations\n",
      "p_1 = 44% took 3067 iterations\n",
      "p_1 = 45% took 2947 iterations\n",
      "p_1 = 46% took 3257 iterations\n",
      "p_1 = 47% took 3047 iterations\n",
      "p_1 = 48% took 3437 iterations\n",
      "p_1 = 49% took 3237 iterations\n",
      "p_1 = 50% took 3377 iterations\n",
      "p_1 = 51% took 3277 iterations\n",
      "p_1 = 52% took 3447 iterations\n",
      "p_1 = 53% took 3847 iterations\n",
      "p_1 = 54% took 3477 iterations\n",
      "p_1 = 55% took 3777 iterations\n",
      "p_1 = 56% took 3937 iterations\n",
      "p_1 = 57% took 4037 iterations\n",
      "p_1 = 58% took 4227 iterations\n",
      "p_1 = 59% took 4497 iterations\n",
      "p_1 = 60% took 4827 iterations\n",
      "p_1 = 61% took 4467 iterations\n",
      "p_1 = 62% took 4727 iterations\n",
      "p_1 = 63% took 5007 iterations\n",
      "p_1 = 64% took 4527 iterations\n",
      "p_1 = 65% took 4377 iterations\n",
      "p_1 = 66% took 5387 iterations\n",
      "p_1 = 67% took 4607 iterations\n",
      "p_1 = 68% took 5617 iterations\n",
      "p_1 = 69% took 6837 iterations\n",
      "p_1 = 70% took 6427 iterations\n",
      "p_1 = 71% took 6077 iterations\n",
      "p_1 = 72% took 6627 iterations\n",
      "p_1 = 73% took 6817 iterations\n",
      "p_1 = 74% took 7247 iterations\n",
      "p_1 = 75% took 7597 iterations\n",
      "p_1 = 76% took 6847 iterations\n",
      "p_1 = 77% took 8457 iterations\n",
      "p_1 = 78% took 9187 iterations\n",
      "p_1 = 79% took 8577 iterations\n",
      "p_1 = 80% took 8737 iterations\n",
      "p_1 = 81% took 8837 iterations\n",
      "p_1 = 82% took 11897 iterations\n",
      "p_1 = 83% took 9507 iterations\n",
      "p_1 = 84% took 11367 iterations\n",
      "p_1 = 85% took 11847 iterations\n",
      "p_1 = 86% took 13767 iterations\n",
      "p_1 = 87% took 15257 iterations\n",
      "p_1 = 88% took 15427 iterations\n",
      "p_1 = 89% took 17577 iterations\n",
      "p_1 = 90% took 19257 iterations\n",
      "p_1 = 91% took 21677 iterations\n",
      "p_1 = 92% took 24867 iterations\n",
      "p_1 = 93% took 28777 iterations\n",
      "p_1 = 94% took 34537 iterations\n",
      "p_1 = 95% took 41177 iterations\n",
      "p_1 = 96% took 46597 iterations\n",
      "p_1 = 97% took 58697 iterations\n",
      "p_1 = 98% took 114377 iterations\n",
      "p_1 = 99% took 203037 iterations\n"
     ]
    }
   ],
   "source": [
    "p_1 = 0\n",
    "probabilities = range(0, 100, 1)\n",
    "iterations = list()\n",
    "\n",
    "for probability in probabilities:\n",
    "    p_2 = probability / 100\n",
    "    data = generate_data(length=200)\n",
    "    result = run_experiment(data, p_1, p_2)\n",
    "    iterations.append(result[\"iterations\"])\n",
    "    print(f'p_1 = {probability}% took {result[\"iterations\"]} iterations')\n",
    "\n",
    "iterations_experiment4 = deepcopy(iterations)\n"
   ]
  },
  {
   "cell_type": "code",
   "execution_count": 12,
   "metadata": {},
   "outputs": [
    {
     "data": {
      "image/png": "[encoded data removed]",
      "text/plain": [
       "<Figure size 432x288 with 1 Axes>"
      ]
     },
     "metadata": {
      "needs_background": "light"
     },
     "output_type": "display_data"
    }
   ],
   "source": [
    "plt.plot(probabilities, iterations_experiment2)\n",
    "plt.plot(probabilities, iterations_experiment3)\n",
    "plt.plot(probabilities, iterations_experiment4)\n",
    "plt.title('Experiment 2 vs 3')\n",
    "plt.xlabel('$p$ [%]')\n",
    "plt.ylabel('No. time ticks (loop iterations)')\n",
    "# plt.xlim([80, 100])\n",
    "plt.grid()"
   ]
  },
  {
   "cell_type": "code",
   "execution_count": 13,
   "metadata": {},
   "outputs": [
    {
     "ename": "NameError",
     "evalue": "name 'np' is not defined",
     "output_type": "error",
     "traceback": [
      "\u001b[0;31m---------------------------------------------------------------------------\u001b[0m",
      "\u001b[0;31mNameError\u001b[0m                                 Traceback (most recent call last)",
      "\u001b[0;32m/var/folders/92/1_8n408n5zvcvv51zhvn5k640000gn/T/ipykernel_86595/935539582.py\u001b[0m in \u001b[0;36m<module>\u001b[0;34m\u001b[0m\n\u001b[1;32m      1\u001b[0m \u001b[0;32mfor\u001b[0m \u001b[0mi\u001b[0m \u001b[0;32min\u001b[0m \u001b[0mrange\u001b[0m\u001b[0;34m(\u001b[0m\u001b[0;36m10\u001b[0m\u001b[0;34m)\u001b[0m\u001b[0;34m:\u001b[0m\u001b[0;34m\u001b[0m\u001b[0;34m\u001b[0m\u001b[0m\n\u001b[0;32m----> 2\u001b[0;31m     \u001b[0mp_1\u001b[0m \u001b[0;34m=\u001b[0m \u001b[0mnp\u001b[0m\u001b[0;34m.\u001b[0m\u001b[0mlinspace\u001b[0m\u001b[0;34m(\u001b[0m\u001b[0;36m0\u001b[0m\u001b[0;34m,\u001b[0m \u001b[0;36m1\u001b[0m\u001b[0;34m)\u001b[0m\u001b[0;34m\u001b[0m\u001b[0;34m\u001b[0m\u001b[0m\n\u001b[0m\u001b[1;32m      3\u001b[0m     \u001b[0mp_2\u001b[0m \u001b[0;34m=\u001b[0m \u001b[0mi\u001b[0m \u001b[0;34m/\u001b[0m \u001b[0;36m10\u001b[0m\u001b[0;34m\u001b[0m\u001b[0;34m\u001b[0m\u001b[0m\n\u001b[1;32m      4\u001b[0m     \u001b[0mp_succes\u001b[0m \u001b[0;34m=\u001b[0m \u001b[0;34m(\u001b[0m\u001b[0;36m1\u001b[0m \u001b[0;34m-\u001b[0m \u001b[0mp_1\u001b[0m\u001b[0;34m)\u001b[0m \u001b[0;34m*\u001b[0m \u001b[0;34m(\u001b[0m\u001b[0;36m1\u001b[0m \u001b[0;34m-\u001b[0m \u001b[0mp_2\u001b[0m\u001b[0;34m)\u001b[0m\u001b[0;34m\u001b[0m\u001b[0;34m\u001b[0m\u001b[0m\n\u001b[1;32m      5\u001b[0m     \u001b[0mp_fail\u001b[0m \u001b[0;34m=\u001b[0m \u001b[0;36m1\u001b[0m \u001b[0;34m-\u001b[0m \u001b[0mp_succes\u001b[0m\u001b[0;34m\u001b[0m\u001b[0;34m\u001b[0m\u001b[0m\n",
      "\u001b[0;31mNameError\u001b[0m: name 'np' is not defined"
     ]
    }
   ],
   "source": [
    "for i in range(10):\n",
    "    p_1 = np.linspace(0, 1)\n",
    "    p_2 = i / 10\n",
    "    p_succes = (1 - p_1) * (1 - p_2)\n",
    "    p_fail = 1 - p_succes\n",
    "    plt.plot(p_1, p_fail)\n",
    "\n",
    "plt.grid()"
   ]
  }
 ],
 "metadata": {
  "kernelspec": {
   "display_name": "Python 3 (ipykernel)",
   "language": "python",
   "name": "python3"
  },
  "language_info": {
   "codemirror_mode": {
    "name": "ipython",
    "version": 3
   },
   "file_extension": ".py",
   "mimetype": "text/x-python",
   "name": "python",
   "nbconvert_exporter": "python",
   "pygments_lexer": "ipython3",
   "version": "3.9.7"
  },
  "varInspector": {
   "cols": {
    "lenName": 16,
    "lenType": 16,
    "lenVar": 40
   },
   "kernels_config": {
    "python": {
     "delete_cmd_postfix": "",
     "delete_cmd_prefix": "del ",
     "library": "var_list.py",
     "varRefreshCmd": "print(var_dic_list())"
    },
    "r": {
     "delete_cmd_postfix": ") ",
     "delete_cmd_prefix": "rm(",
     "library": "var_list.r",
     "varRefreshCmd": "cat(var_dic_list()) "
    }
   },
   "types_to_exclude": [
    "module",
    "function",
    "builtin_function_or_method",
    "instance",
    "_Feature"
   ],
   "window_display": false
  }
 },
 "nbformat": 4,
 "nbformat_minor": 2
}
