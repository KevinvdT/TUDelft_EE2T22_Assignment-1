{
 "cells": [
  {
   "cell_type": "code",
   "execution_count": 1,
   "metadata": {},
   "outputs": [],
   "source": [
    "import numpy as np\n",
    "from matplotlib import pyplot as plt"
   ]
  },
  {
   "cell_type": "code",
   "execution_count": 2,
   "metadata": {},
   "outputs": [],
   "source": [
    "from main import run_experiment, generate_data"
   ]
  },
  {
   "cell_type": "markdown",
   "metadata": {},
   "source": [
    "## Experiment 1"
   ]
  },
  {
   "cell_type": "code",
   "execution_count": 13,
   "metadata": {},
   "outputs": [
    {
     "name": "stdout",
     "output_type": "stream",
     "text": [
      "Size 0 took 0 iterations\n",
      "Size 20 took 1517 iterations\n",
      "Size 40 took 4477 iterations\n",
      "Size 60 took 5397 iterations\n",
      "Size 80 took 7617 iterations\n",
      "Size 100 took 9967 iterations\n",
      "Size 120 took 10687 iterations\n",
      "Size 140 took 12237 iterations\n",
      "Size 160 took 16007 iterations\n",
      "Size 180 took 17357 iterations\n",
      "Size 200 took 18477 iterations\n",
      "Size 220 took 22157 iterations\n",
      "Size 240 took 23757 iterations\n",
      "Size 260 took 25207 iterations\n",
      "Size 280 took 25057 iterations\n",
      "Size 300 took 27927 iterations\n",
      "Size 320 took 31237 iterations\n",
      "Size 340 took 32027 iterations\n",
      "Size 360 took 33737 iterations\n",
      "Size 380 took 33977 iterations\n",
      "Size 400 took 41057 iterations\n",
      "Size 420 took 43387 iterations\n",
      "Size 440 took 43387 iterations\n",
      "Size 460 took 44297 iterations\n",
      "Size 480 took 43977 iterations\n",
      "Size 500 took 50927 iterations\n",
      "Size 520 took 49117 iterations\n",
      "Size 540 took 52337 iterations\n",
      "Size 560 took 51647 iterations\n",
      "Size 580 took 58177 iterations\n",
      "Size 600 took 61257 iterations\n",
      "Size 620 took 58537 iterations\n",
      "Size 640 took 62337 iterations\n",
      "Size 660 took 63897 iterations\n",
      "Size 680 took 67557 iterations\n",
      "Size 700 took 69367 iterations\n",
      "Size 720 took 68447 iterations\n",
      "Size 740 took 70617 iterations\n",
      "Size 760 took 71797 iterations\n",
      "Size 780 took 73417 iterations\n",
      "Size 800 took 79537 iterations\n",
      "Size 820 took 79807 iterations\n",
      "Size 840 took 76337 iterations\n",
      "Size 860 took 78467 iterations\n",
      "Size 880 took 83387 iterations\n",
      "Size 900 took 89167 iterations\n",
      "Size 920 took 85847 iterations\n",
      "Size 940 took 89417 iterations\n",
      "Size 960 took 94217 iterations\n",
      "Size 980 took 90547 iterations\n",
      "Size 1000 took 96087 iterations\n"
     ]
    }
   ],
   "source": [
    "p_1 = 0.99\n",
    "p_2 = 0\n",
    "sizes = range(0, 1000+1, 20)\n",
    "iterations = list()\n",
    "for size in sizes:\n",
    "    data = generate_data(size)\n",
    "    result = run_experiment(data, p_1, p_2)\n",
    "    iterations.append(result[\"iterations\"])\n",
    "    print(f'Size {size} took {result[\"iterations\"]} iterations')"
   ]
  },
  {
   "cell_type": "code",
   "execution_count": 14,
   "metadata": {},
   "outputs": [
    {
     "data": {
      "text/plain": [
       "Text(0, 0.5, 'No. time ticks (loop iterations)')"
      ]
     },
     "execution_count": 14,
     "metadata": {},
     "output_type": "execute_result"
    },
    {
     "data": {
      "image/png": "[encoded data removed]",
      "text/plain": [
       "<Figure size 432x288 with 1 Axes>"
      ]
     },
     "metadata": {
      "needs_background": "light"
     },
     "output_type": "display_data"
    }
   ],
   "source": [
    "plt.plot(sizes, iterations)\n",
    "plt.xlabel('Data size')\n",
    "plt.ylabel('No. time ticks (loop iterations)')"
   ]
  }
 ],
 "metadata": {
  "kernelspec": {
   "display_name": "Python 3",
   "language": "python",
   "name": "python3"
  },
  "language_info": {
   "codemirror_mode": {
    "name": "ipython",
    "version": 3
   },
   "file_extension": ".py",
   "mimetype": "text/x-python",
   "name": "python",
   "nbconvert_exporter": "python",
   "pygments_lexer": "ipython3",
   "version": "3.9.7"
  }
 },
 "nbformat": 4,
 "nbformat_minor": 2
}
